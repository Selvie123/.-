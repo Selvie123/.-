# IISC Air Quality Project

This repository contains:

- `IISC Air Quality Project.ipynb` – Jupyter Notebook with data analysis, visualizations, and modeling of pollutants.
- Visuals generated from the notebook (time-series, seasonal boxplots, correlation matrix, map, model diagnostics).
- Scripts for generating PowerPoint presentation from results.

## How to Use

1. Clone the repository:
```bash
git clone https://github.com/Selvie123/<repo-name>.git
Open iisc.ipynb in Jupyter or Google Colab.

Follow the notebook instructions to reproduce results.

Author
Silambu Selvi
